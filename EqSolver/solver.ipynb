{
 "cells": [
  {
   "cell_type": "markdown",
   "metadata": {},
   "source": [
    "Question 1 By Borna Maherani ID = 401243079"
   ]
  },
  {
   "cell_type": "markdown",
   "metadata": {},
   "source": [
    "<h1> Getiing inputs</h1>"
   ]
  },
  {
   "cell_type": "code",
   "execution_count": 17,
   "metadata": {},
   "outputs": [],
   "source": [
    "import numpy as np\n",
    "#Number of variables\n",
    "n = int(input(\"Enter the number of variables: \"))\n",
    "#matrix of coefficients\n",
    "A = np.empty((0,n), int)\n",
    "# matrix of constants\n",
    "b = []\n",
    "B = np.empty((0,n), int)\n",
    "\n",
    "\"\"\"\n",
    "geting the coefficinets and constants(every input should be in a line and splited by 'space')\n",
    "example: n=3 \n",
    "1 3 4 \n",
    "4\n",
    "0 4 9\n",
    "5\n",
    "10 4 1 \n",
    "6\n",
    "\"\"\"\n",
    "for i in range(0,n):\n",
    "    line = input(f\"Enter the coefficients of eq {i+1}: \").split()\n",
    "    line = list(map(int, line))\n",
    "    A = np.append(A, np.array([line]), axis=0)\n",
    "    line = int(input(f\"Enter the constants of eq {i+1}: \"))\n",
    "    b.append(line)\n",
    "B = np.append(B, np.array([b]), axis=0)"
   ]
  },
  {
   "cell_type": "markdown",
   "metadata": {},
   "source": [
    "<h1>Determinant Function</h1>"
   ]
  },
  {
   "cell_type": "code",
   "execution_count": 7,
   "metadata": {},
   "outputs": [
    {
     "name": "stdout",
     "output_type": "stream",
     "text": [
      "1\n",
      "1.0000000000000004\n",
      "1190\n",
      "1189.9999999999984\n"
     ]
    }
   ],
   "source": [
    "def determinant(A):\n",
    "    result = 0\n",
    "    if len(A) == 2 and len(A[0]) == 2:\n",
    "        val = A[0][0]*A[1][1] - A[1][0]*A[0][1]\n",
    "        return val\n",
    "    for k in range(0, len(A)):\n",
    "        M = np.copy(A)\n",
    "        M = M[1:]\n",
    "        M = np.delete(M, k, 1)\n",
    "        sign = (-1)**(k%2)\n",
    "        subDet = determinant(M)\n",
    "        result += sign * A[0][k] * subDet\n",
    "    return result\n",
    "\n",
    "#TESTCASES\n",
    "##############################\n",
    "A = np.array([\n",
    "    [1,3,4],\n",
    "    [1,4,6],\n",
    "    [3,4,3]\n",
    "])\n",
    "print(determinant(A))\n",
    "print(np.linalg.det(A))\n",
    "\n",
    "A = np.array([\n",
    "    [5,3,3,1,0,8],\n",
    "    [0,3,3,0,4,4],\n",
    "    [2,4,1,-1,-9,0],\n",
    "    [0,-1,-1,-5,0,4],\n",
    "    [9,4,3,0,1,2],\n",
    "    [0,3,2,1,0,0]\n",
    "])\n",
    "print(determinant(A))\n",
    "print(np.linalg.det(A))\n",
    "###############################"
   ]
  },
  {
   "cell_type": "markdown",
   "metadata": {},
   "source": [
    "<h1> Kramer Function </h1>"
   ]
  },
  {
   "cell_type": "code",
   "execution_count": 8,
   "metadata": {},
   "outputs": [
    {
     "name": "stdout",
     "output_type": "stream",
     "text": [
      "[-0.75, 6.916666666666667, -0.8333333333333334]\n"
     ]
    }
   ],
   "source": [
    "def kramer(A,B):\n",
    "    result =[]\n",
    "    for i in range(len(A)):\n",
    "        temp = np.copy(A)\n",
    "        temp = np.delete(temp, i, 1)\n",
    "        temp = np.insert(temp,i,B, axis=1)\n",
    "        result.append(determinant(temp)/determinant(A))\n",
    "    return result\n",
    "\n",
    "#############################\n",
    "A = np.array([\n",
    "    [5,1,-1],\n",
    "    [9,1,-1],\n",
    "    [1,1,5]\n",
    "])\n",
    "B = np.array([\n",
    "    [4,1,2]\n",
    "])\n",
    "print(kramer(A,B))\n",
    "#############################"
   ]
  },
  {
   "cell_type": "markdown",
   "metadata": {},
   "source": [
    "<h1>Inverse matrix methode</h1>"
   ]
  },
  {
   "cell_type": "code",
   "execution_count": 22,
   "metadata": {},
   "outputs": [
    {
     "name": "stdout",
     "output_type": "stream",
     "text": [
      "[-0.75, 6.916666666666667, -0.8333333333333333]\n"
     ]
    }
   ],
   "source": [
    "def matInv(A):\n",
    "    result = np.copy(A)\n",
    "    for i in range(0,len(A)):\n",
    "        for j in range(0,len(A[i])):\n",
    "            sign = (-1) ** ((i+j)%2)\n",
    "            C = np.delete(A,i,0)\n",
    "            C = np.delete(C,j,1)\n",
    "            result[i][j] = sign * determinant(C)\n",
    "    result = np.transpose(result)\n",
    "    return result/determinant(A)\n",
    "\n",
    "A = np.array([\n",
    "    [5,1,-1],\n",
    "    [9,1,-1],\n",
    "    [1,1,5]\n",
    "])\n",
    "B = np.array([\n",
    "    [4,1,2]\n",
    "])\n",
    "def eq(A,B):\n",
    "    A = matInv(A)\n",
    "    result = []\n",
    "    for i in range(len(A)):\n",
    "          result.append(np.dot(A[i],B[0]))\n",
    "    return result\n",
    "\n",
    "###########################\n",
    "A = np.array([\n",
    "    [5,1,-1],\n",
    "    [9,1,-1],\n",
    "    [1,1,5]\n",
    "])\n",
    "B = np.array([\n",
    "    [4,1,2]\n",
    "])\n",
    "print(eq(A,B))\n",
    "#############################"
   ]
  },
  {
   "cell_type": "markdown",
   "metadata": {},
   "source": [
    "<h1>TestCases</h1>"
   ]
  },
  {
   "cell_type": "code",
   "execution_count": 23,
   "metadata": {},
   "outputs": [
    {
     "name": "stdout",
     "output_type": "stream",
     "text": [
      "kramer :  [1.0, 3.0, -2.0]\n",
      "Invert : [1.0, 3.0, -2.0000000000000004] \n",
      "\n",
      "kramer :  [2.0, 3.0, 1.0]\n",
      "Invert : [2.0, 3.0, 1.0] \n",
      "\n",
      "kramer :  [0.3333333333333333, 5.777777777777778, 9.88888888888889, -2.2222222222222223]\n",
      "Invert : [0.3333333333333326, 5.777777777777779, 9.888888888888888, -2.2222222222222223] \n",
      "\n",
      "kramer :  [-0.17925478348439072, 1.095669687814703, 0.35850956696878145, -2.0523665659617323, 1.0775427995971802]\n",
      "Invert : [-0.17925478348439022, 1.0956696878147028, 0.35850956696878133, -2.0523665659617345, 1.0775427995971798] \n",
      "\n"
     ]
    }
   ],
   "source": [
    "A = np.array([\n",
    "    [1,1,1],\n",
    "    [5,4,2],\n",
    "    [-1,3,1]\n",
    "])\n",
    "B = np.array([\n",
    "    [2,13,6]\n",
    "])\n",
    "print(\"kramer : \" , kramer(A,B))\n",
    "print(\"Invert :\" , eq(A,B), \"\\n\")\n",
    "\n",
    "A = np.array([\n",
    "    [2,2,1],\n",
    "    [3,1,1],\n",
    "    [3,1,2]\n",
    "])\n",
    "B = np.array([\n",
    "    [11,10,11]\n",
    "])\n",
    "print(\"kramer : \" , kramer(A,B))\n",
    "print(\"Invert :\" , eq(A,B) , \"\\n\")\n",
    "\n",
    "\n",
    "A = np.array([\n",
    "    [2,2,1,5],\n",
    "    [3,1,1,3],\n",
    "    [3,1,2,7],\n",
    "    [4,5,0,10]\n",
    "])\n",
    "B = np.array([\n",
    "    [11,10,11,8]\n",
    "])\n",
    "print(\"kramer : \" , kramer(A,B))\n",
    "print(\"Invert :\" , eq(A,B), \"\\n\")\n",
    "\n",
    "\n",
    "A = np.array([\n",
    "    [1,7,7,0,0],\n",
    "    [3,4,0,0,2],\n",
    "    [0,0,4,4,10],\n",
    "    [4,0,9,1,7],\n",
    "    [8,8,1,0,4]\n",
    "\n",
    "])\n",
    "B = np.array([\n",
    "    [10,6,4,8,12]\n",
    "])\n",
    "print(\"kramer : \" , kramer(A,B))\n",
    "print(\"Invert :\" , eq(A,B), \"\\n\")"
   ]
  }
 ],
 "metadata": {
  "kernelspec": {
   "display_name": "Python 3",
   "language": "python",
   "name": "python3"
  },
  "language_info": {
   "codemirror_mode": {
    "name": "ipython",
    "version": 3
   },
   "file_extension": ".py",
   "mimetype": "text/x-python",
   "name": "python",
   "nbconvert_exporter": "python",
   "pygments_lexer": "ipython3",
   "version": "3.10.12"
  }
 },
 "nbformat": 4,
 "nbformat_minor": 2
}
